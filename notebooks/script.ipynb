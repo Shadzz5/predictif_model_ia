{
 "cells": [
  {
   "cell_type": "code",
   "execution_count": 2,
   "id": "d90014b1-8b93-4eec-aff1-5bf5d3c6f8e0",
   "metadata": {},
   "outputs": [
    {
     "name": "stdout",
     "output_type": "stream",
     "text": [
      "Epoch 1/5\n",
      "10/10 [==============================] - 0s 1ms/step - loss: 0.7279 - accuracy: 0.4300\n",
      "Epoch 2/5\n",
      "10/10 [==============================] - 0s 921us/step - loss: 0.7138 - accuracy: 0.4300\n",
      "Epoch 3/5\n",
      "10/10 [==============================] - 0s 1ms/step - loss: 0.7040 - accuracy: 0.4100\n",
      "Epoch 4/5\n",
      "10/10 [==============================] - 0s 987us/step - loss: 0.6961 - accuracy: 0.4900\n",
      "Epoch 5/5\n",
      "10/10 [==============================] - 0s 947us/step - loss: 0.6931 - accuracy: 0.5100\n"
     ]
    },
    {
     "data": {
      "text/plain": [
       "<keras.src.callbacks.History at 0xffff1a4cc580>"
      ]
     },
     "execution_count": 2,
     "metadata": {},
     "output_type": "execute_result"
    }
   ],
   "source": [
    "import tensorflow as tf\n",
    "from tensorflow import keras\n",
    "import numpy as np\n",
    "\n",
    "# Génération de données aléatoires\n",
    "X_train = np.random.rand(100, 10)\n",
    "y_train = np.random.randint(0, 2, size=(100,))\n",
    "\n",
    "# Définition d'un modèle simple\n",
    "model = keras.Sequential([\n",
    "    keras.layers.Dense(16, activation='relu', input_shape=(10,)),\n",
    "    keras.layers.Dense(8, activation='relu'),\n",
    "    keras.layers.Dense(1, activation='sigmoid')\n",
    "])\n",
    "\n",
    "# Compilation du modèle\n",
    "model.compile(optimizer='adam', loss='binary_crossentropy', metrics=['accuracy'])\n",
    "\n",
    "# Entraînement du modèle\n",
    "model.fit(X_train, y_train, epochs=5, batch_size=10)\n"
   ]
  },
  {
   "cell_type": "code",
   "execution_count": null,
   "id": "d5a4095c-cccb-4072-b845-b266933b7451",
   "metadata": {},
   "outputs": [],
   "source": []
  }
 ],
 "metadata": {
  "kernelspec": {
   "display_name": "Python 3 (ipykernel)",
   "language": "python",
   "name": "python3"
  },
  "language_info": {
   "codemirror_mode": {
    "name": "ipython",
    "version": 3
   },
   "file_extension": ".py",
   "mimetype": "text/x-python",
   "name": "python",
   "nbconvert_exporter": "python",
   "pygments_lexer": "ipython3",
   "version": "3.9.21"
  }
 },
 "nbformat": 4,
 "nbformat_minor": 5
}
